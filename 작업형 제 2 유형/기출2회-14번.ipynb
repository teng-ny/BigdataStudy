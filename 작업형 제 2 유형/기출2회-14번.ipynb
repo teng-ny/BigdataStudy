{
 "cells": [
  {
   "cell_type": "code",
   "execution_count": 1,
   "id": "8c646338",
   "metadata": {},
   "outputs": [],
   "source": [
    "import pandas as pd\n",
    "data=pd.read_csv(\"Train.csv\")"
   ]
  },
  {
   "cell_type": "code",
   "execution_count": 2,
   "id": "e42dfd3c",
   "metadata": {},
   "outputs": [
    {
     "name": "stdout",
     "output_type": "stream",
     "text": [
      "<class 'pandas.core.frame.DataFrame'>\n",
      "RangeIndex: 10999 entries, 0 to 10998\n",
      "Data columns (total 12 columns):\n",
      " #   Column               Non-Null Count  Dtype \n",
      "---  ------               --------------  ----- \n",
      " 0   ID                   10999 non-null  int64 \n",
      " 1   Warehouse_block      10999 non-null  object\n",
      " 2   Mode_of_Shipment     10999 non-null  object\n",
      " 3   Customer_care_calls  10999 non-null  int64 \n",
      " 4   Customer_rating      10999 non-null  int64 \n",
      " 5   Cost_of_the_Product  10999 non-null  int64 \n",
      " 6   Prior_purchases      10999 non-null  int64 \n",
      " 7   Product_importance   10999 non-null  object\n",
      " 8   Gender               10999 non-null  object\n",
      " 9   Discount_offered     10999 non-null  int64 \n",
      " 10  Weight_in_gms        10999 non-null  int64 \n",
      " 11  Reached.on.Time_Y.N  10999 non-null  int64 \n",
      "dtypes: int64(8), object(4)\n",
      "memory usage: 1.0+ MB\n",
      "None\n"
     ]
    }
   ],
   "source": [
    "print(data.info())"
   ]
  },
  {
   "cell_type": "code",
   "execution_count": 3,
   "id": "f7771e87",
   "metadata": {},
   "outputs": [],
   "source": [
    "X=data.drop('Reached.on.Time_Y.N', axis=1)\n",
    "y=data[['Reached.on.Time_Y.N']]"
   ]
  },
  {
   "cell_type": "code",
   "execution_count": 4,
   "id": "3d2f17b7",
   "metadata": {},
   "outputs": [],
   "source": [
    "X=pd.get_dummies(X)"
   ]
  },
  {
   "cell_type": "code",
   "execution_count": 5,
   "id": "02bd9034",
   "metadata": {},
   "outputs": [],
   "source": [
    "from sklearn.model_selection import train_test_split\n",
    "X_train, X_test, y_train, y_test=train_test_split(X, y, stratify=y, random_state=42)"
   ]
  },
  {
   "cell_type": "code",
   "execution_count": 6,
   "id": "a48c9255",
   "metadata": {},
   "outputs": [
    {
     "data": {
      "text/plain": [
       "MinMaxScaler()"
      ]
     },
     "execution_count": 6,
     "metadata": {},
     "output_type": "execute_result"
    }
   ],
   "source": [
    "# 정규화\n",
    "from sklearn.preprocessing import MinMaxScaler\n",
    "minmax=MinMaxScaler()\n",
    "minmax.fit(X_train)"
   ]
  },
  {
   "cell_type": "code",
   "execution_count": 7,
   "id": "bfe0b7dd",
   "metadata": {},
   "outputs": [],
   "source": [
    "minmax_X_train=minmax.transform(X_train)\n",
    "minmax_X_test=minmax.transform(X_test)"
   ]
  },
  {
   "cell_type": "code",
   "execution_count": 8,
   "id": "b5c72e24",
   "metadata": {},
   "outputs": [],
   "source": [
    "# train/valid 생성\n",
    "#X_train_, X_valid, y_train_, y_valid = train_test_split(minmax_X_train, y_train, stratify=y_train, random_state=42, test_size=0.2)"
   ]
  },
  {
   "cell_type": "code",
   "execution_count": 10,
   "id": "7041cc0e",
   "metadata": {},
   "outputs": [
    {
     "name": "stdout",
     "output_type": "stream",
     "text": [
      "0.8589187478900878\n",
      "0.7204610511049196\n"
     ]
    }
   ],
   "source": [
    "# 모델 생성\n",
    "from sklearn.ensemble import RandomForestClassifier\n",
    "model=RandomForestClassifier(random_state=42, n_estimators=100, max_depth=10)\n",
    "#model.fit(X_train_, y_train_.values.ravel())\n",
    "#pred_train=model.predict(X_train_)\n",
    "from sklearn.metrics import roc_auc_score\n",
    "#auc=roc_auc_score(y_train_, pred_train)\n",
    "#print(auc)\n",
    "#pred_valid=model.predict(X_valid)\n",
    "#auc_valid=roc_auc_score(y_valid, pred_valid)\n",
    "#print(auc_valid)"
   ]
  },
  {
   "cell_type": "code",
   "execution_count": null,
   "id": "79c0b0bb",
   "metadata": {},
   "outputs": [],
   "source": [
    "# 모델 생성\n",
    "from sklearn.ensemble import RandomForestClassifier\n",
    "model=RandomForestClassifier(random_state=42, n_estimators=100, max_depth=10)\n",
    "#model.fit(X_train_, y_train_.values.ravel())\n",
    "#pred_train=model.predict(X_train_)\n",
    "from sklearn.metrics import roc_auc_score\n",
    "#auc=roc_auc_score(y_train_, pred_train)\n",
    "#print(auc)\n",
    "#pred_valid=model.predict(X_valid)\n",
    "#auc_valid=roc_auc_score(y_valid, pred_valid)\n",
    "#print(auc_valid)"
   ]
  },
  {
   "cell_type": "code",
   "execution_count": 11,
   "id": "9fd21f80",
   "metadata": {},
   "outputs": [],
   "source": [
    "model.fit(minmax_X_train, y_train.values.ravel())\n",
    "pred_train=model.predict(minmax_X_train)\n",
    "auc_train=roc_auc_score(y_train, pred_train)"
   ]
  },
  {
   "cell_type": "code",
   "execution_count": 12,
   "id": "27045c4e",
   "metadata": {},
   "outputs": [
    {
     "name": "stdout",
     "output_type": "stream",
     "text": [
      "0.8386431273462651\n"
     ]
    }
   ],
   "source": [
    "print(auc_train)"
   ]
  },
  {
   "cell_type": "code",
   "execution_count": 13,
   "id": "e9b38f6b",
   "metadata": {},
   "outputs": [],
   "source": [
    "pred_test=model.predict(minmax_X_test)"
   ]
  },
  {
   "cell_type": "code",
   "execution_count": 14,
   "id": "f4635ec5",
   "metadata": {},
   "outputs": [],
   "source": [
    "pred_test=pd.DataFrame(pred_test)"
   ]
  },
  {
   "cell_type": "code",
   "execution_count": 15,
   "id": "9219c378",
   "metadata": {},
   "outputs": [],
   "source": [
    "pred_test.columns=['pred']"
   ]
  },
  {
   "cell_type": "code",
   "execution_count": 16,
   "id": "db685876",
   "metadata": {},
   "outputs": [],
   "source": [
    "pred_test.to_csv(\"003001027.csv\", index=False)"
   ]
  },
  {
   "cell_type": "code",
   "execution_count": 17,
   "id": "f5633e95",
   "metadata": {},
   "outputs": [],
   "source": [
    "data2=pd.read_csv(\"003001027.csv\")"
   ]
  },
  {
   "cell_type": "code",
   "execution_count": 18,
   "id": "97426542",
   "metadata": {},
   "outputs": [
    {
     "name": "stdout",
     "output_type": "stream",
     "text": [
      "      pred\n",
      "0        0\n",
      "1        1\n",
      "2        1\n",
      "3        0\n",
      "4        0\n",
      "...    ...\n",
      "2745     0\n",
      "2746     1\n",
      "2747     1\n",
      "2748     0\n",
      "2749     1\n",
      "\n",
      "[2750 rows x 1 columns]\n"
     ]
    }
   ],
   "source": [
    "print(data2)"
   ]
  }
 ],
 "metadata": {
  "kernelspec": {
   "display_name": "Python 3 (ipykernel)",
   "language": "python",
   "name": "python3"
  },
  "language_info": {
   "codemirror_mode": {
    "name": "ipython",
    "version": 3
   },
   "file_extension": ".py",
   "mimetype": "text/x-python",
   "name": "python",
   "nbconvert_exporter": "python",
   "pygments_lexer": "ipython3",
   "version": "3.8.5"
  }
 },
 "nbformat": 4,
 "nbformat_minor": 5
}
