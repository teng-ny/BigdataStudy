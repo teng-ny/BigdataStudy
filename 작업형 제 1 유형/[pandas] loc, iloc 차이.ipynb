{
 "cells": [
  {
   "cell_type": "markdown",
   "id": "7ffe8993",
   "metadata": {},
   "source": [
    "## 판다스에서 특정 행(row)이나 열(column)을 골라낼 때 사용"
   ]
  },
  {
   "cell_type": "code",
   "execution_count": 1,
   "id": "0d4fb6ff",
   "metadata": {},
   "outputs": [
    {
     "data": {
      "text/html": [
       "<div>\n",
       "<style scoped>\n",
       "    .dataframe tbody tr th:only-of-type {\n",
       "        vertical-align: middle;\n",
       "    }\n",
       "\n",
       "    .dataframe tbody tr th {\n",
       "        vertical-align: top;\n",
       "    }\n",
       "\n",
       "    .dataframe thead th {\n",
       "        text-align: right;\n",
       "    }\n",
       "</style>\n",
       "<table border=\"1\" class=\"dataframe\">\n",
       "  <thead>\n",
       "    <tr style=\"text-align: right;\">\n",
       "      <th></th>\n",
       "      <th>customer_id</th>\n",
       "      <th>customer_name</th>\n",
       "      <th>registration_date</th>\n",
       "      <th>email</th>\n",
       "      <th>gender</th>\n",
       "      <th>age</th>\n",
       "      <th>birth</th>\n",
       "      <th>pref</th>\n",
       "    </tr>\n",
       "  </thead>\n",
       "  <tbody>\n",
       "    <tr>\n",
       "      <th>0</th>\n",
       "      <td>IK152942</td>\n",
       "      <td>김서준</td>\n",
       "      <td>2019-01-01 0:25</td>\n",
       "      <td>hirata_yuujirou@example.com</td>\n",
       "      <td>M</td>\n",
       "      <td>29</td>\n",
       "      <td>1990-06-10</td>\n",
       "      <td>대전광역시</td>\n",
       "    </tr>\n",
       "    <tr>\n",
       "      <th>1</th>\n",
       "      <td>TS808488</td>\n",
       "      <td>김예준</td>\n",
       "      <td>2019-01-01 1:13</td>\n",
       "      <td>tamura_shiori@example.com</td>\n",
       "      <td>F</td>\n",
       "      <td>33</td>\n",
       "      <td>1986-05-20</td>\n",
       "      <td>인천광역시</td>\n",
       "    </tr>\n",
       "    <tr>\n",
       "      <th>2</th>\n",
       "      <td>AS834628</td>\n",
       "      <td>김도윤</td>\n",
       "      <td>2019-01-01 2:00</td>\n",
       "      <td>hisano_yuki@example.com</td>\n",
       "      <td>F</td>\n",
       "      <td>63</td>\n",
       "      <td>1956-01-02</td>\n",
       "      <td>광주광역시</td>\n",
       "    </tr>\n",
       "    <tr>\n",
       "      <th>3</th>\n",
       "      <td>AS345469</td>\n",
       "      <td>김시우</td>\n",
       "      <td>2019-01-01 4:48</td>\n",
       "      <td>tsuruoka_kaoru@example.com</td>\n",
       "      <td>M</td>\n",
       "      <td>74</td>\n",
       "      <td>1945-03-25</td>\n",
       "      <td>인천광역시</td>\n",
       "    </tr>\n",
       "    <tr>\n",
       "      <th>4</th>\n",
       "      <td>GD892565</td>\n",
       "      <td>김주원</td>\n",
       "      <td>2019-01-01 4:54</td>\n",
       "      <td>oouchi_takashi@example.com</td>\n",
       "      <td>M</td>\n",
       "      <td>54</td>\n",
       "      <td>1965-08-05</td>\n",
       "      <td>울산광역시</td>\n",
       "    </tr>\n",
       "    <tr>\n",
       "      <th>...</th>\n",
       "      <td>...</td>\n",
       "      <td>...</td>\n",
       "      <td>...</td>\n",
       "      <td>...</td>\n",
       "      <td>...</td>\n",
       "      <td>...</td>\n",
       "      <td>...</td>\n",
       "      <td>...</td>\n",
       "    </tr>\n",
       "    <tr>\n",
       "      <th>4995</th>\n",
       "      <td>AS677229</td>\n",
       "      <td>정우석</td>\n",
       "      <td>2019-07-31 16:52</td>\n",
       "      <td>hirayama_risa@example.com</td>\n",
       "      <td>F</td>\n",
       "      <td>77</td>\n",
       "      <td>1941-10-17</td>\n",
       "      <td>대전광역시</td>\n",
       "    </tr>\n",
       "    <tr>\n",
       "      <th>4996</th>\n",
       "      <td>HD758694</td>\n",
       "      <td>정영훈</td>\n",
       "      <td>2019-07-31 19:09</td>\n",
       "      <td>nakahara_mahiru@example.com</td>\n",
       "      <td>F</td>\n",
       "      <td>27</td>\n",
       "      <td>1991-11-13</td>\n",
       "      <td>광주광역시</td>\n",
       "    </tr>\n",
       "    <tr>\n",
       "      <th>4997</th>\n",
       "      <td>PL538517</td>\n",
       "      <td>정준기</td>\n",
       "      <td>2019-07-31 19:30</td>\n",
       "      <td>tabata_yuu1@example.com</td>\n",
       "      <td>F</td>\n",
       "      <td>73</td>\n",
       "      <td>1945-12-28</td>\n",
       "      <td>대전광역시</td>\n",
       "    </tr>\n",
       "    <tr>\n",
       "      <th>4998</th>\n",
       "      <td>OA955088</td>\n",
       "      <td>정도형</td>\n",
       "      <td>2019-07-31 22:32</td>\n",
       "      <td>setouchi_hikaru@example.com</td>\n",
       "      <td>F</td>\n",
       "      <td>75</td>\n",
       "      <td>1944-04-09</td>\n",
       "      <td>부산광역시</td>\n",
       "    </tr>\n",
       "    <tr>\n",
       "      <th>4999</th>\n",
       "      <td>HI349563</td>\n",
       "      <td>정지석</td>\n",
       "      <td>2019-07-31 22:49</td>\n",
       "      <td>horii_kanji@example.com</td>\n",
       "      <td>M</td>\n",
       "      <td>21</td>\n",
       "      <td>1998-02-06</td>\n",
       "      <td>서울특별시</td>\n",
       "    </tr>\n",
       "  </tbody>\n",
       "</table>\n",
       "<p>5000 rows × 8 columns</p>\n",
       "</div>"
      ],
      "text/plain": [
       "     customer_id customer_name registration_date                        email  \\\n",
       "0       IK152942           김서준   2019-01-01 0:25  hirata_yuujirou@example.com   \n",
       "1       TS808488           김예준   2019-01-01 1:13    tamura_shiori@example.com   \n",
       "2       AS834628           김도윤   2019-01-01 2:00      hisano_yuki@example.com   \n",
       "3       AS345469           김시우   2019-01-01 4:48   tsuruoka_kaoru@example.com   \n",
       "4       GD892565           김주원   2019-01-01 4:54   oouchi_takashi@example.com   \n",
       "...          ...           ...               ...                          ...   \n",
       "4995    AS677229           정우석  2019-07-31 16:52    hirayama_risa@example.com   \n",
       "4996    HD758694           정영훈  2019-07-31 19:09  nakahara_mahiru@example.com   \n",
       "4997    PL538517           정준기  2019-07-31 19:30      tabata_yuu1@example.com   \n",
       "4998    OA955088           정도형  2019-07-31 22:32  setouchi_hikaru@example.com   \n",
       "4999    HI349563           정지석  2019-07-31 22:49      horii_kanji@example.com   \n",
       "\n",
       "     gender  age       birth   pref  \n",
       "0         M   29  1990-06-10  대전광역시  \n",
       "1         F   33  1986-05-20  인천광역시  \n",
       "2         F   63  1956-01-02  광주광역시  \n",
       "3         M   74  1945-03-25  인천광역시  \n",
       "4         M   54  1965-08-05  울산광역시  \n",
       "...     ...  ...         ...    ...  \n",
       "4995      F   77  1941-10-17  대전광역시  \n",
       "4996      F   27  1991-11-13  광주광역시  \n",
       "4997      F   73  1945-12-28  대전광역시  \n",
       "4998      F   75  1944-04-09  부산광역시  \n",
       "4999      M   21  1998-02-06  서울특별시  \n",
       "\n",
       "[5000 rows x 8 columns]"
      ]
     },
     "execution_count": 1,
     "metadata": {},
     "output_type": "execute_result"
    }
   ],
   "source": [
    "#loc\n",
    "#df.loc[행 인덱싱 값, 열 인덱싱 값]\n",
    "import pandas as pd\n",
    "customer_m=pd.read_csv(\"customer_master.csv\")\n",
    "customer_m"
   ]
  },
  {
   "cell_type": "code",
   "execution_count": 2,
   "id": "7cdef0c9",
   "metadata": {},
   "outputs": [
    {
     "data": {
      "text/plain": [
       "customer_id                             IK152942\n",
       "customer_name                                김서준\n",
       "registration_date                2019-01-01 0:25\n",
       "email                hirata_yuujirou@example.com\n",
       "gender                                         M\n",
       "age                                           29\n",
       "birth                                 1990-06-10\n",
       "pref                                       대전광역시\n",
       "Name: 0, dtype: object"
      ]
     },
     "execution_count": 2,
     "metadata": {},
     "output_type": "execute_result"
    }
   ],
   "source": [
    "#레이블 이름이 0인 행 추출\n",
    "customer_m.loc[0]"
   ]
  },
  {
   "cell_type": "code",
   "execution_count": 3,
   "id": "51962b80",
   "metadata": {},
   "outputs": [
    {
     "data": {
      "text/plain": [
       "customer_id                           TS808488\n",
       "customer_name                              김예준\n",
       "registration_date              2019-01-01 1:13\n",
       "email                tamura_shiori@example.com\n",
       "gender                                       F\n",
       "age                                         33\n",
       "birth                               1986-05-20\n",
       "pref                                     인천광역시\n",
       "Name: 1, dtype: object"
      ]
     },
     "execution_count": 3,
     "metadata": {},
     "output_type": "execute_result"
    }
   ],
   "source": [
    "#레이블 이름이 1인 행 추출\n",
    "customer_m.loc[1]"
   ]
  },
  {
   "cell_type": "code",
   "execution_count": 4,
   "id": "7f9e2620",
   "metadata": {},
   "outputs": [
    {
     "data": {
      "text/plain": [
       "0       IK152942\n",
       "1       TS808488\n",
       "2       AS834628\n",
       "3       AS345469\n",
       "4       GD892565\n",
       "          ...   \n",
       "4995    AS677229\n",
       "4996    HD758694\n",
       "4997    PL538517\n",
       "4998    OA955088\n",
       "4999    HI349563\n",
       "Name: customer_id, Length: 5000, dtype: object"
      ]
     },
     "execution_count": 4,
     "metadata": {},
     "output_type": "execute_result"
    }
   ],
   "source": [
    "#레이블 이름이 ucstomer_id인 열 추출\n",
    "customer_m.loc[:, \"customer_id\"]"
   ]
  },
  {
   "cell_type": "markdown",
   "id": "51930c12",
   "metadata": {},
   "source": [
    "## iloc 예시\n",
    "- df.iloc[행인덱스,열인덱스]"
   ]
  },
  {
   "cell_type": "code",
   "execution_count": 5,
   "id": "7a6e521f",
   "metadata": {},
   "outputs": [
    {
     "data": {
      "text/plain": [
       "customer_id                             IK152942\n",
       "customer_name                                김서준\n",
       "registration_date                2019-01-01 0:25\n",
       "email                hirata_yuujirou@example.com\n",
       "gender                                         M\n",
       "age                                           29\n",
       "birth                                 1990-06-10\n",
       "pref                                       대전광역시\n",
       "Name: 0, dtype: object"
      ]
     },
     "execution_count": 5,
     "metadata": {},
     "output_type": "execute_result"
    }
   ],
   "source": [
    "customer_m.iloc[0]"
   ]
  },
  {
   "cell_type": "code",
   "execution_count": 6,
   "id": "af290b6a",
   "metadata": {},
   "outputs": [
    {
     "data": {
      "text/plain": [
       "customer_id                           TS808488\n",
       "customer_name                              김예준\n",
       "registration_date              2019-01-01 1:13\n",
       "email                tamura_shiori@example.com\n",
       "gender                                       F\n",
       "age                                         33\n",
       "birth                               1986-05-20\n",
       "pref                                     인천광역시\n",
       "Name: 1, dtype: object"
      ]
     },
     "execution_count": 6,
     "metadata": {},
     "output_type": "execute_result"
    }
   ],
   "source": [
    "#두번째 행 추출\n",
    "customer_m.iloc[1]"
   ]
  },
  {
   "cell_type": "code",
   "execution_count": 7,
   "id": "98eb76c7",
   "metadata": {},
   "outputs": [
    {
     "data": {
      "text/plain": [
       "0       IK152942\n",
       "1       TS808488\n",
       "2       AS834628\n",
       "3       AS345469\n",
       "4       GD892565\n",
       "          ...   \n",
       "4995    AS677229\n",
       "4996    HD758694\n",
       "4997    PL538517\n",
       "4998    OA955088\n",
       "4999    HI349563\n",
       "Name: customer_id, Length: 5000, dtype: object"
      ]
     },
     "execution_count": 7,
     "metadata": {},
     "output_type": "execute_result"
    }
   ],
   "source": [
    "#첫번째열 추출\n",
    "customer_m.iloc[:, 0]"
   ]
  },
  {
   "cell_type": "code",
   "execution_count": 8,
   "id": "ee33db54",
   "metadata": {},
   "outputs": [
    {
     "data": {
      "text/plain": [
       "0       hirata_yuujirou@example.com\n",
       "1         tamura_shiori@example.com\n",
       "2           hisano_yuki@example.com\n",
       "3        tsuruoka_kaoru@example.com\n",
       "4        oouchi_takashi@example.com\n",
       "                   ...             \n",
       "4995      hirayama_risa@example.com\n",
       "4996    nakahara_mahiru@example.com\n",
       "4997        tabata_yuu1@example.com\n",
       "4998    setouchi_hikaru@example.com\n",
       "4999        horii_kanji@example.com\n",
       "Name: email, Length: 5000, dtype: object"
      ]
     },
     "execution_count": 8,
     "metadata": {},
     "output_type": "execute_result"
    }
   ],
   "source": [
    "#네번째 열 추출\n",
    "customer_m.iloc[:, 3]"
   ]
  }
 ],
 "metadata": {
  "kernelspec": {
   "display_name": "Python 3 (ipykernel)",
   "language": "python",
   "name": "python3"
  },
  "language_info": {
   "codemirror_mode": {
    "name": "ipython",
    "version": 3
   },
   "file_extension": ".py",
   "mimetype": "text/x-python",
   "name": "python",
   "nbconvert_exporter": "python",
   "pygments_lexer": "ipython3",
   "version": "3.9.7"
  }
 },
 "nbformat": 4,
 "nbformat_minor": 5
}
