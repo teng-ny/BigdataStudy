{
 "cells": [
  {
   "cell_type": "code",
   "execution_count": 1,
   "id": "f3960302",
   "metadata": {},
   "outputs": [],
   "source": [
    "import pandas as pd\n",
    "data=pd.read_csv(\"BostonHousing.csv\")"
   ]
  },
  {
   "cell_type": "code",
   "execution_count": 2,
   "id": "f66f0f53",
   "metadata": {},
   "outputs": [
    {
     "name": "stdout",
     "output_type": "stream",
     "text": [
      "<class 'pandas.core.frame.DataFrame'>\n",
      "RangeIndex: 506 entries, 0 to 505\n",
      "Data columns (total 15 columns):\n",
      " #   Column     Non-Null Count  Dtype  \n",
      "---  ------     --------------  -----  \n",
      " 0   CRIM       506 non-null    float64\n",
      " 1   ZN         506 non-null    float64\n",
      " 2   INDUS      506 non-null    float64\n",
      " 3   CHAS       506 non-null    int64  \n",
      " 4   NOX        506 non-null    float64\n",
      " 5   RM         506 non-null    float64\n",
      " 6   AGE        506 non-null    float64\n",
      " 7   DIS        506 non-null    float64\n",
      " 8   RAD        506 non-null    int64  \n",
      " 9   TAX        506 non-null    int64  \n",
      " 10  PTRATIO    506 non-null    float64\n",
      " 11  B          506 non-null    float64\n",
      " 12  LSTAT      506 non-null    float64\n",
      " 13  MEDV       506 non-null    float64\n",
      " 14  CAT. MEDV  506 non-null    int64  \n",
      "dtypes: float64(11), int64(4)\n",
      "memory usage: 59.4 KB\n",
      "None\n"
     ]
    }
   ],
   "source": [
    "print(data.info())"
   ]
  },
  {
   "cell_type": "code",
   "execution_count": 3,
   "id": "03158555",
   "metadata": {},
   "outputs": [],
   "source": [
    "data.sort_values('CRIM', ascending=False, inplace=True)"
   ]
  },
  {
   "cell_type": "code",
   "execution_count": 4,
   "id": "72cf0858",
   "metadata": {},
   "outputs": [],
   "source": [
    "crim_min=data['CRIM'].head(10).min()"
   ]
  },
  {
   "cell_type": "code",
   "execution_count": 5,
   "id": "d7df2e57",
   "metadata": {},
   "outputs": [],
   "source": [
    "a1=data[data['CRIM']>=crim_min]\n",
    "a2=data[data['CRIM']<crim_min]"
   ]
  },
  {
   "cell_type": "code",
   "execution_count": 6,
   "id": "d0c6abad",
   "metadata": {},
   "outputs": [],
   "source": [
    "a1=a1.copy()\n",
    "a1['CRIM']=crim_min"
   ]
  },
  {
   "cell_type": "code",
   "execution_count": 7,
   "id": "257d0143",
   "metadata": {},
   "outputs": [
    {
     "name": "stdout",
     "output_type": "stream",
     "text": [
      "        CRIM   ZN  INDUS  CHAS    NOX     RM    AGE     DIS  RAD  TAX  \\\n",
      "380  25.9406  0.0   18.1     0  0.671  6.968   91.9  1.4165   24  666   \n",
      "418  25.9406  0.0   18.1     0  0.679  5.957  100.0  1.8026   24  666   \n",
      "405  25.9406  0.0   18.1     0  0.693  5.683  100.0  1.4254   24  666   \n",
      "410  25.9406  0.0   18.1     0  0.597  5.757  100.0  1.4130   24  666   \n",
      "414  25.9406  0.0   18.1     0  0.693  4.519  100.0  1.6582   24  666   \n",
      "404  25.9406  0.0   18.1     0  0.693  5.531   85.4  1.6074   24  666   \n",
      "398  25.9406  0.0   18.1     0  0.693  5.453  100.0  1.4896   24  666   \n",
      "427  25.9406  0.0   18.1     0  0.679  6.202   78.7  1.8629   24  666   \n",
      "413  25.9406  0.0   18.1     0  0.597  5.155  100.0  1.5894   24  666   \n",
      "417  25.9406  0.0   18.1     0  0.679  5.304   89.1  1.6475   24  666   \n",
      "\n",
      "     PTRATIO       B  LSTAT  MEDV  CAT. MEDV  \n",
      "380     20.2  396.90  17.21  10.4          0  \n",
      "418     20.2   16.45  20.62   8.8          0  \n",
      "405     20.2  384.97  22.98   5.0          0  \n",
      "410     20.2    2.60  10.11  15.0          0  \n",
      "414     20.2   88.27  36.98   7.0          0  \n",
      "404     20.2  329.46  27.38   8.5          0  \n",
      "398     20.2  396.90  30.59   5.0          0  \n",
      "427     20.2   18.82  14.52  10.9          0  \n",
      "413     20.2  210.97  20.08  16.3          0  \n",
      "417     20.2  127.36  26.64  10.4          0  \n"
     ]
    }
   ],
   "source": [
    "print(a1)"
   ]
  },
  {
   "cell_type": "code",
   "execution_count": 10,
   "id": "36aad7b9",
   "metadata": {},
   "outputs": [],
   "source": [
    "train=pd.concat([a1,a2],axis=0)"
   ]
  },
  {
   "cell_type": "code",
   "execution_count": 11,
   "id": "0fe3e96c",
   "metadata": {},
   "outputs": [
    {
     "name": "stdout",
     "output_type": "stream",
     "text": [
      "         CRIM    ZN  INDUS  CHAS    NOX     RM    AGE     DIS  RAD  TAX  \\\n",
      "380  25.94060   0.0  18.10     0  0.671  6.968   91.9  1.4165   24  666   \n",
      "418  25.94060   0.0  18.10     0  0.679  5.957  100.0  1.8026   24  666   \n",
      "405  25.94060   0.0  18.10     0  0.693  5.683  100.0  1.4254   24  666   \n",
      "410  25.94060   0.0  18.10     0  0.597  5.757  100.0  1.4130   24  666   \n",
      "414  25.94060   0.0  18.10     0  0.693  4.519  100.0  1.6582   24  666   \n",
      "..        ...   ...    ...   ...    ...    ...    ...     ...  ...  ...   \n",
      "55    0.01311  90.0   1.22     0  0.403  7.249   21.9  8.6966    5  226   \n",
      "341   0.01301  35.0   1.52     0  0.442  7.241   49.3  7.0379    1  284   \n",
      "285   0.01096  55.0   2.25     0  0.389  6.453   31.9  7.3073    1  300   \n",
      "284   0.00906  90.0   2.97     0  0.400  7.088   20.8  7.3073    1  285   \n",
      "0     0.00632  18.0   2.31     0  0.538  6.575   65.2  4.0900    1  296   \n",
      "\n",
      "     PTRATIO       B  LSTAT  MEDV  CAT. MEDV  \n",
      "380     20.2  396.90  17.21  10.4          0  \n",
      "418     20.2   16.45  20.62   8.8          0  \n",
      "405     20.2  384.97  22.98   5.0          0  \n",
      "410     20.2    2.60  10.11  15.0          0  \n",
      "414     20.2   88.27  36.98   7.0          0  \n",
      "..       ...     ...    ...   ...        ...  \n",
      "55      17.9  395.93   4.81  35.4          1  \n",
      "341     15.5  394.74   5.49  32.7          1  \n",
      "285     15.3  394.72   8.23  22.0          0  \n",
      "284     15.3  394.72   7.85  32.2          1  \n",
      "0       15.3  396.90   4.98  24.0          0  \n",
      "\n",
      "[506 rows x 15 columns]\n"
     ]
    }
   ],
   "source": [
    "print(train)"
   ]
  },
  {
   "cell_type": "code",
   "execution_count": 12,
   "id": "e18761d1",
   "metadata": {},
   "outputs": [],
   "source": [
    "result=train[train['AGE']>=80]"
   ]
  },
  {
   "cell_type": "code",
   "execution_count": 13,
   "id": "35b1fea8",
   "metadata": {},
   "outputs": [],
   "source": [
    "result=result['CRIM'].mean()"
   ]
  },
  {
   "cell_type": "code",
   "execution_count": 14,
   "id": "1a75a457",
   "metadata": {},
   "outputs": [
    {
     "name": "stdout",
     "output_type": "stream",
     "text": [
      "5.759386624999999\n"
     ]
    }
   ],
   "source": [
    "print(result)"
   ]
  },
  {
   "cell_type": "code",
   "execution_count": null,
   "id": "5d1c9568",
   "metadata": {},
   "outputs": [],
   "source": []
  }
 ],
 "metadata": {
  "kernelspec": {
   "display_name": "Python 3 (ipykernel)",
   "language": "python",
   "name": "python3"
  },
  "language_info": {
   "codemirror_mode": {
    "name": "ipython",
    "version": 3
   },
   "file_extension": ".py",
   "mimetype": "text/x-python",
   "name": "python",
   "nbconvert_exporter": "python",
   "pygments_lexer": "ipython3",
   "version": "3.8.5"
  }
 },
 "nbformat": 4,
 "nbformat_minor": 5
}
