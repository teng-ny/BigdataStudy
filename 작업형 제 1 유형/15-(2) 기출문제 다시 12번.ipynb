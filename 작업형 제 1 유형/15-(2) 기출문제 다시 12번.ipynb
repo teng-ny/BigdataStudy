{
 "cells": [
  {
   "cell_type": "code",
   "execution_count": 1,
   "id": "15cfd2a3",
   "metadata": {},
   "outputs": [
    {
     "name": "stderr",
     "output_type": "stream",
     "text": [
      "C:\\Users\\taeeu\\anaconda3\\lib\\site-packages\\numpy\\_distributor_init.py:30: UserWarning: loaded more than 1 DLL from .libs:\n",
      "C:\\Users\\taeeu\\anaconda3\\lib\\site-packages\\numpy\\.libs\\libopenblas.el2c6ple4zyw3eceviv3oxxgrn2nrfm2.gfortran-win_amd64.dll\n",
      "C:\\Users\\taeeu\\anaconda3\\lib\\site-packages\\numpy\\.libs\\libopenblas.WCDJNK7YVMPZQ2ME2ZZHJJRJ3JIKNDB7.gfortran-win_amd64.dll\n",
      "  warnings.warn(\"loaded more than 1 DLL from .libs:\"\n"
     ]
    }
   ],
   "source": [
    "import pandas as pd\n",
    "data=pd.read_csv(\"housing.csv\")"
   ]
  },
  {
   "cell_type": "code",
   "execution_count": 2,
   "id": "96c708e0",
   "metadata": {},
   "outputs": [
    {
     "name": "stdout",
     "output_type": "stream",
     "text": [
      "16512.0\n",
      "16512\n"
     ]
    }
   ],
   "source": [
    "len_data=len(data)*0.8\n",
    "print(len_data)\n",
    "len_data=int(len_data)\n",
    "print(len_data)"
   ]
  },
  {
   "cell_type": "code",
   "execution_count": 3,
   "id": "53a97807",
   "metadata": {},
   "outputs": [
    {
     "name": "stdout",
     "output_type": "stream",
     "text": [
      "       longitude  latitude  housing_median_age  total_rooms  total_bedrooms  \\\n",
      "0        -122.23     37.88                41.0        880.0           129.0   \n",
      "1        -122.22     37.86                21.0       7099.0          1106.0   \n",
      "2        -122.24     37.85                52.0       1467.0           190.0   \n",
      "3        -122.25     37.85                52.0       1274.0           235.0   \n",
      "4        -122.25     37.85                52.0       1627.0           280.0   \n",
      "...          ...       ...                 ...          ...             ...   \n",
      "16507    -121.11     37.74                11.0       3886.0           599.0   \n",
      "16508    -121.10     37.80                35.0       1853.0           331.0   \n",
      "16509    -121.11     37.76                22.0       2606.0           411.0   \n",
      "16510    -121.16     37.73                 7.0       4956.0           941.0   \n",
      "16511    -121.25     37.76                22.0       2430.0           417.0   \n",
      "\n",
      "       population  households  median_income  median_house_value  \\\n",
      "0           322.0       126.0         8.3252            452600.0   \n",
      "1          2401.0      1138.0         8.3014            358500.0   \n",
      "2           496.0       177.0         7.2574            352100.0   \n",
      "3           558.0       219.0         5.6431            341300.0   \n",
      "4           565.0       259.0         3.8462            342200.0   \n",
      "...           ...         ...            ...                 ...   \n",
      "16507      1605.0       529.0         4.4213            182700.0   \n",
      "16508       958.0       340.0         3.3578            149000.0   \n",
      "16509      1252.0       397.0         4.1833            192100.0   \n",
      "16510      3006.0       915.0         3.4426            139000.0   \n",
      "16511      1292.0       391.0         3.4009            182400.0   \n",
      "\n",
      "      ocean_proximity  \n",
      "0            NEAR BAY  \n",
      "1            NEAR BAY  \n",
      "2            NEAR BAY  \n",
      "3            NEAR BAY  \n",
      "4            NEAR BAY  \n",
      "...               ...  \n",
      "16507          INLAND  \n",
      "16508          INLAND  \n",
      "16509          INLAND  \n",
      "16510          INLAND  \n",
      "16511          INLAND  \n",
      "\n",
      "[16512 rows x 10 columns]\n"
     ]
    }
   ],
   "source": [
    "train=data[:len_data]\n",
    "print(train)"
   ]
  },
  {
   "cell_type": "code",
   "execution_count": 4,
   "id": "b0b03e16",
   "metadata": {},
   "outputs": [
    {
     "name": "stdout",
     "output_type": "stream",
     "text": [
      "longitude               0\n",
      "latitude                0\n",
      "housing_median_age      0\n",
      "total_rooms             0\n",
      "total_bedrooms        159\n",
      "population              0\n",
      "households              0\n",
      "median_income           0\n",
      "median_house_value      0\n",
      "ocean_proximity         0\n",
      "dtype: int64\n"
     ]
    }
   ],
   "source": [
    "print(train.isnull().sum())"
   ]
  },
  {
   "cell_type": "code",
   "execution_count": 10,
   "id": "141a7723",
   "metadata": {},
   "outputs": [],
   "source": [
    "train=train.copy()\n",
    "old=train['total_bedrooms'].std()\n",
    "train['total_bedrooms']=train['total_bedrooms'].fillna(train['total_bedrooms'].median())"
   ]
  },
  {
   "cell_type": "code",
   "execution_count": 6,
   "id": "e9d10474",
   "metadata": {},
   "outputs": [
    {
     "name": "stdout",
     "output_type": "stream",
     "text": [
      "longitude             0\n",
      "latitude              0\n",
      "housing_median_age    0\n",
      "total_rooms           0\n",
      "total_bedrooms        0\n",
      "population            0\n",
      "households            0\n",
      "median_income         0\n",
      "median_house_value    0\n",
      "ocean_proximity       0\n",
      "dtype: int64\n"
     ]
    }
   ],
   "source": [
    "print(train.isnull().sum())"
   ]
  },
  {
   "cell_type": "code",
   "execution_count": 7,
   "id": "2abdc15b",
   "metadata": {},
   "outputs": [],
   "source": [
    "new=train['total_bedrooms'].std()"
   ]
  },
  {
   "cell_type": "code",
   "execution_count": 8,
   "id": "13cf63f7",
   "metadata": {},
   "outputs": [],
   "source": [
    "result=abs(old-new)"
   ]
  },
  {
   "cell_type": "code",
   "execution_count": 9,
   "id": "4dbfe8ae",
   "metadata": {},
   "outputs": [
    {
     "name": "stdout",
     "output_type": "stream",
     "text": [
      "1.975147291645726\n"
     ]
    }
   ],
   "source": [
    "print(result)"
   ]
  }
 ],
 "metadata": {
  "kernelspec": {
   "display_name": "Python 3 (ipykernel)",
   "language": "python",
   "name": "python3"
  },
  "language_info": {
   "codemirror_mode": {
    "name": "ipython",
    "version": 3
   },
   "file_extension": ".py",
   "mimetype": "text/x-python",
   "name": "python",
   "nbconvert_exporter": "python",
   "pygments_lexer": "ipython3",
   "version": "3.8.5"
  }
 },
 "nbformat": 4,
 "nbformat_minor": 5
}
